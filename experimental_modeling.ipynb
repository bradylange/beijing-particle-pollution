{
 "cells": [
  {
   "cell_type": "code",
   "execution_count": 15,
   "metadata": {
    "collapsed": true
   },
   "outputs": [],
   "source": [
    "import numpy as np\n",
    "import pandas as pd\n",
    "import os\n",
    "import tarfile\n",
    "from six.moves import urllib\n",
    "import pickle\n",
    "from sklearn.linear_model import LinearRegression, Ridge, Lasso, ElasticNet\n",
    "from sklearn.tree import DecisionTreeRegressor\n",
    "from sklearn.ensemble import RandomForestRegressor\n",
    "import matplotlib.pyplot as plt\n",
    "from sklearn.preprocessing import PolynomialFeatures\n",
    "from sklearn.model_selection import cross_val_score\n",
    "from sklearn.model_selection import GridSearchCV\n",
    "from sklearn.metrics import mean_squared_error"
   ]
  },
  {
   "cell_type": "code",
   "execution_count": 2,
   "metadata": {},
   "outputs": [
    {
     "name": "stdout",
     "output_type": "stream",
     "text": [
      "[ -1.42766137e+00   9.72956566e-01   1.85618152e+00  -5.61873949e-01\n",
      "  -6.00755364e-01  -4.82568002e-01  -5.68998224e-01  -3.57869092e-01\n",
      "  -5.41151908e-01   0.00000000e+00   0.00000000e+00   0.00000000e+00\n",
      "   1.00000000e+00   0.00000000e+00   2.55600000e+05]\n",
      "[  6.03800653e-01  -7.35924413e-01   8.23226501e-01   7.98679508e-02\n",
      "   3.15151865e-01  -2.79465781e-01   3.25539234e-01  -3.26707519e-01\n",
      "   2.33973849e-02   1.00000000e+00   0.00000000e+00   0.00000000e+00\n",
      "   0.00000000e+00   0.00000000e+00   3.55000000e+05]\n"
     ]
    }
   ],
   "source": [
    "HOUSING_PATH = os.path.join(\"datasets\", \"housing\")\n",
    "pickle_path = os.path.join(HOUSING_PATH, \"housing.pickle\")\n",
    "import pandas as pd\n",
    "def load_housing_data():\n",
    "    with open(pickle_path, 'rb') as f:\n",
    "        train_set, test_set = pickle.load(f)\n",
    "    return train_set, test_set\n",
    "\n",
    "train_set, test_set = load_housing_data()\n",
    "print(train_set[0,:])\n",
    "print(test_set[0,:])"
   ]
  },
  {
   "cell_type": "code",
   "execution_count": 3,
   "metadata": {},
   "outputs": [
    {
     "name": "stdout",
     "output_type": "stream",
     "text": [
      "[-1.42766137  0.97295657  1.85618152 -0.56187395 -0.60075536 -0.482568\n",
      " -0.56899822 -0.35786909 -0.54115191  0.          0.          0.          1.\n",
      "  0.        ]\n",
      "[ 255600.]\n",
      "[ 0.60380065 -0.73592441  0.8232265   0.07986795  0.31515186 -0.27946578\n",
      "  0.32553923 -0.32670752  0.02339738  1.          0.          0.          0.\n",
      "  0.        ]\n",
      "[ 355000.]\n",
      "(16512, 14)\n",
      "(4128, 14)\n",
      "(16512, 1)\n",
      "(4128, 1)\n"
     ]
    }
   ],
   "source": [
    "X_train = train_set[:,:-1]\n",
    "y_train = train_set[:,-1:]\n",
    "X_test = test_set[:,:-1]\n",
    "y_test = test_set[:,-1:]\n",
    "print(X_train[0,:])\n",
    "print(y_train[0,:])\n",
    "print(X_test[0,:])\n",
    "print(y_test[0,:])\n",
    "print(X_train.shape)\n",
    "print(X_test.shape)\n",
    "print(y_train.shape)\n",
    "print(y_test.shape)"
   ]
  },
  {
   "cell_type": "code",
   "execution_count": 5,
   "metadata": {},
   "outputs": [
    {
     "name": "stdout",
     "output_type": "stream",
     "text": [
      "training the linear model\n",
      "done training the linear model -> starting the poly model\n",
      "done training the poly model -> starting ridge model\n",
      "done training the ridge model -> starting lasso model\n"
     ]
    },
    {
     "name": "stderr",
     "output_type": "stream",
     "text": [
      "/Users/w1082952/anaconda/envs/CSIS452/lib/python3.6/site-packages/sklearn/linear_model/coordinate_descent.py:491: ConvergenceWarning: Objective did not converge. You might want to increase the number of iterations. Fitting data with very small alpha may cause precision problems.\n",
      "  ConvergenceWarning)\n",
      "/Users/w1082952/anaconda/envs/CSIS452/lib/python3.6/site-packages/sklearn/linear_model/coordinate_descent.py:491: ConvergenceWarning: Objective did not converge. You might want to increase the number of iterations. Fitting data with very small alpha may cause precision problems.\n",
      "  ConvergenceWarning)\n",
      "/Users/w1082952/anaconda/envs/CSIS452/lib/python3.6/site-packages/sklearn/linear_model/coordinate_descent.py:491: ConvergenceWarning: Objective did not converge. You might want to increase the number of iterations. Fitting data with very small alpha may cause precision problems.\n",
      "  ConvergenceWarning)\n",
      "/Users/w1082952/anaconda/envs/CSIS452/lib/python3.6/site-packages/sklearn/linear_model/coordinate_descent.py:491: ConvergenceWarning: Objective did not converge. You might want to increase the number of iterations. Fitting data with very small alpha may cause precision problems.\n",
      "  ConvergenceWarning)\n",
      "/Users/w1082952/anaconda/envs/CSIS452/lib/python3.6/site-packages/sklearn/linear_model/coordinate_descent.py:491: ConvergenceWarning: Objective did not converge. You might want to increase the number of iterations. Fitting data with very small alpha may cause precision problems.\n",
      "  ConvergenceWarning)\n",
      "/Users/w1082952/anaconda/envs/CSIS452/lib/python3.6/site-packages/sklearn/linear_model/coordinate_descent.py:491: ConvergenceWarning: Objective did not converge. You might want to increase the number of iterations. Fitting data with very small alpha may cause precision problems.\n",
      "  ConvergenceWarning)\n",
      "/Users/w1082952/anaconda/envs/CSIS452/lib/python3.6/site-packages/sklearn/linear_model/coordinate_descent.py:491: ConvergenceWarning: Objective did not converge. You might want to increase the number of iterations. Fitting data with very small alpha may cause precision problems.\n",
      "  ConvergenceWarning)\n",
      "/Users/w1082952/anaconda/envs/CSIS452/lib/python3.6/site-packages/sklearn/linear_model/coordinate_descent.py:491: ConvergenceWarning: Objective did not converge. You might want to increase the number of iterations. Fitting data with very small alpha may cause precision problems.\n",
      "  ConvergenceWarning)\n",
      "/Users/w1082952/anaconda/envs/CSIS452/lib/python3.6/site-packages/sklearn/linear_model/coordinate_descent.py:491: ConvergenceWarning: Objective did not converge. You might want to increase the number of iterations. Fitting data with very small alpha may cause precision problems.\n",
      "  ConvergenceWarning)\n",
      "/Users/w1082952/anaconda/envs/CSIS452/lib/python3.6/site-packages/sklearn/linear_model/coordinate_descent.py:491: ConvergenceWarning: Objective did not converge. You might want to increase the number of iterations. Fitting data with very small alpha may cause precision problems.\n",
      "  ConvergenceWarning)\n"
     ]
    },
    {
     "name": "stdout",
     "output_type": "stream",
     "text": [
      "done training the lasso model -> startiong elastic net model\n"
     ]
    },
    {
     "name": "stderr",
     "output_type": "stream",
     "text": [
      "/Users/w1082952/anaconda/envs/CSIS452/lib/python3.6/site-packages/sklearn/linear_model/coordinate_descent.py:491: ConvergenceWarning: Objective did not converge. You might want to increase the number of iterations. Fitting data with very small alpha may cause precision problems.\n",
      "  ConvergenceWarning)\n",
      "/Users/w1082952/anaconda/envs/CSIS452/lib/python3.6/site-packages/sklearn/linear_model/coordinate_descent.py:491: ConvergenceWarning: Objective did not converge. You might want to increase the number of iterations. Fitting data with very small alpha may cause precision problems.\n",
      "  ConvergenceWarning)\n",
      "/Users/w1082952/anaconda/envs/CSIS452/lib/python3.6/site-packages/sklearn/linear_model/coordinate_descent.py:491: ConvergenceWarning: Objective did not converge. You might want to increase the number of iterations. Fitting data with very small alpha may cause precision problems.\n",
      "  ConvergenceWarning)\n",
      "/Users/w1082952/anaconda/envs/CSIS452/lib/python3.6/site-packages/sklearn/linear_model/coordinate_descent.py:491: ConvergenceWarning: Objective did not converge. You might want to increase the number of iterations. Fitting data with very small alpha may cause precision problems.\n",
      "  ConvergenceWarning)\n",
      "/Users/w1082952/anaconda/envs/CSIS452/lib/python3.6/site-packages/sklearn/linear_model/coordinate_descent.py:491: ConvergenceWarning: Objective did not converge. You might want to increase the number of iterations. Fitting data with very small alpha may cause precision problems.\n",
      "  ConvergenceWarning)\n",
      "/Users/w1082952/anaconda/envs/CSIS452/lib/python3.6/site-packages/sklearn/linear_model/coordinate_descent.py:491: ConvergenceWarning: Objective did not converge. You might want to increase the number of iterations. Fitting data with very small alpha may cause precision problems.\n",
      "  ConvergenceWarning)\n",
      "/Users/w1082952/anaconda/envs/CSIS452/lib/python3.6/site-packages/sklearn/linear_model/coordinate_descent.py:491: ConvergenceWarning: Objective did not converge. You might want to increase the number of iterations. Fitting data with very small alpha may cause precision problems.\n",
      "  ConvergenceWarning)\n",
      "/Users/w1082952/anaconda/envs/CSIS452/lib/python3.6/site-packages/sklearn/linear_model/coordinate_descent.py:491: ConvergenceWarning: Objective did not converge. You might want to increase the number of iterations. Fitting data with very small alpha may cause precision problems.\n",
      "  ConvergenceWarning)\n",
      "/Users/w1082952/anaconda/envs/CSIS452/lib/python3.6/site-packages/sklearn/linear_model/coordinate_descent.py:491: ConvergenceWarning: Objective did not converge. You might want to increase the number of iterations. Fitting data with very small alpha may cause precision problems.\n",
      "  ConvergenceWarning)\n",
      "/Users/w1082952/anaconda/envs/CSIS452/lib/python3.6/site-packages/sklearn/linear_model/coordinate_descent.py:491: ConvergenceWarning: Objective did not converge. You might want to increase the number of iterations. Fitting data with very small alpha may cause precision problems.\n",
      "  ConvergenceWarning)\n"
     ]
    },
    {
     "name": "stdout",
     "output_type": "stream",
     "text": [
      "done training the elastic net model -> starting decission tree model\n",
      "done training the decission tree model -> starting random forest model\n"
     ]
    },
    {
     "name": "stderr",
     "output_type": "stream",
     "text": [
      "/Users/w1082952/anaconda/envs/CSIS452/lib/python3.6/site-packages/sklearn/model_selection/_validation.py:437: DataConversionWarning: A column-vector y was passed when a 1d array was expected. Please change the shape of y to (n_samples,), for example using ravel().\n",
      "  estimator.fit(X_train, y_train, **fit_params)\n",
      "/Users/w1082952/anaconda/envs/CSIS452/lib/python3.6/site-packages/sklearn/model_selection/_validation.py:437: DataConversionWarning: A column-vector y was passed when a 1d array was expected. Please change the shape of y to (n_samples,), for example using ravel().\n",
      "  estimator.fit(X_train, y_train, **fit_params)\n",
      "/Users/w1082952/anaconda/envs/CSIS452/lib/python3.6/site-packages/sklearn/model_selection/_validation.py:437: DataConversionWarning: A column-vector y was passed when a 1d array was expected. Please change the shape of y to (n_samples,), for example using ravel().\n",
      "  estimator.fit(X_train, y_train, **fit_params)\n",
      "/Users/w1082952/anaconda/envs/CSIS452/lib/python3.6/site-packages/sklearn/model_selection/_validation.py:437: DataConversionWarning: A column-vector y was passed when a 1d array was expected. Please change the shape of y to (n_samples,), for example using ravel().\n",
      "  estimator.fit(X_train, y_train, **fit_params)\n",
      "/Users/w1082952/anaconda/envs/CSIS452/lib/python3.6/site-packages/sklearn/model_selection/_validation.py:437: DataConversionWarning: A column-vector y was passed when a 1d array was expected. Please change the shape of y to (n_samples,), for example using ravel().\n",
      "  estimator.fit(X_train, y_train, **fit_params)\n",
      "/Users/w1082952/anaconda/envs/CSIS452/lib/python3.6/site-packages/sklearn/model_selection/_validation.py:437: DataConversionWarning: A column-vector y was passed when a 1d array was expected. Please change the shape of y to (n_samples,), for example using ravel().\n",
      "  estimator.fit(X_train, y_train, **fit_params)\n",
      "/Users/w1082952/anaconda/envs/CSIS452/lib/python3.6/site-packages/sklearn/model_selection/_validation.py:437: DataConversionWarning: A column-vector y was passed when a 1d array was expected. Please change the shape of y to (n_samples,), for example using ravel().\n",
      "  estimator.fit(X_train, y_train, **fit_params)\n",
      "/Users/w1082952/anaconda/envs/CSIS452/lib/python3.6/site-packages/sklearn/model_selection/_validation.py:437: DataConversionWarning: A column-vector y was passed when a 1d array was expected. Please change the shape of y to (n_samples,), for example using ravel().\n",
      "  estimator.fit(X_train, y_train, **fit_params)\n",
      "/Users/w1082952/anaconda/envs/CSIS452/lib/python3.6/site-packages/sklearn/model_selection/_validation.py:437: DataConversionWarning: A column-vector y was passed when a 1d array was expected. Please change the shape of y to (n_samples,), for example using ravel().\n",
      "  estimator.fit(X_train, y_train, **fit_params)\n",
      "/Users/w1082952/anaconda/envs/CSIS452/lib/python3.6/site-packages/sklearn/model_selection/_validation.py:437: DataConversionWarning: A column-vector y was passed when a 1d array was expected. Please change the shape of y to (n_samples,), for example using ravel().\n",
      "  estimator.fit(X_train, y_train, **fit_params)\n"
     ]
    },
    {
     "name": "stdout",
     "output_type": "stream",
     "text": [
      "done training the random forest tree model\n",
      "\n"
     ]
    }
   ],
   "source": [
    "poly_features = PolynomialFeatures(degree=2, include_bias=False)\n",
    "X_train_poly = poly_features.fit_transform(X_train)\n",
    "\n",
    "linear_reg = LinearRegression()\n",
    "ridge_reg = Ridge(alpha=0.1, solver=\"cholesky\", max_iter=1000)\n",
    "lasso_reg = Lasso(alpha=0.1, max_iter=1000)\n",
    "elastic_net_reg = ElasticNet(alpha=0.1, l1_ratio=0.5, max_iter=1000)\n",
    "tree_reg = DecisionTreeRegressor()\n",
    "forest_reg = RandomForestRegressor()\n",
    "\n",
    "print(\"training the linear model\")\n",
    "linear_scores = cross_val_score(linear_reg, X_train, y_train, scoring=\"neg_mean_squared_error\", cv=10)\n",
    "print(\"done training the linear model -> starting the poly model\")\n",
    "ploy_scores = cross_val_score(linear_reg, X_train_poly, y_train, scoring=\"neg_mean_squared_error\", cv=10)\n",
    "print(\"done training the poly model -> starting ridge model\")\n",
    "ridge_scores = cross_val_score(linear_reg, X_train_poly, y_train, scoring=\"neg_mean_squared_error\", cv=10)\n",
    "print(\"done training the ridge model -> starting lasso model\")\n",
    "lasso_scores = cross_val_score(lasso_reg, X_train_poly, y_train, scoring=\"neg_mean_squared_error\", cv=10)\n",
    "print(\"done training the lasso model -> startiong elastic net model\")\n",
    "elastic_net_scores = cross_val_score(elastic_net_reg, X_train_poly, y_train, scoring=\"neg_mean_squared_error\", cv=10)\n",
    "print(\"done training the elastic net model -> starting decission tree model\")\n",
    "tree_scores = cross_val_score(tree_reg, X_train, y_train, scoring=\"neg_mean_squared_error\", cv=10)\n",
    "print(\"done training the decission tree model -> starting random forest model\")\n",
    "forest_scores = cross_val_score(forest_reg, X_train, y_train, scoring=\"neg_mean_squared_error\", cv=10)\n",
    "print(\"done training the random forest tree model\\n\")\n",
    "\n",
    "target_range = y_train.max()-y_train.min();\n",
    "linear_average_RMSE = np.sqrt(-linear_scores).mean()/target_range;\n",
    "ploy_average_RMSE = np.sqrt(-ploy_scores).mean()/target_range;\n",
    "ridge_average_RMSE = np.sqrt(-ridge_scores).mean()/target_range;\n",
    "lasso_average_RMSE = np.sqrt(-lasso_scores).mean()/target_range;\n",
    "elastic_net_average_RMSE = np.sqrt(-elastic_net_scores).mean()/target_range;\n",
    "tree_average_RMSE = np.sqrt(-tree_scores).mean()/target_range;\n",
    "forest_average_RMSE = np.sqrt(-forest_scores).mean()/target_range;"
   ]
  },
  {
   "cell_type": "code",
   "execution_count": 7,
   "metadata": {},
   "outputs": [
    {
     "name": "stdout",
     "output_type": "stream",
     "text": [
      "['14.19%', '645973022.76%', '645973022.76%', '15.35%', '14.15%', '14.17%', '10.61%']\n"
     ]
    },
    {
     "data": {
      "image/png": "[encoded data removed]",
      "text/plain": [
       "<matplotlib.figure.Figure at 0x10f298fd0>"
      ]
     },
     "metadata": {},
     "output_type": "display_data"
    }
   ],
   "source": [
    "x = [1, 2, 3, 4, 5, 6, 7]\n",
    "model_names = [\"linear\", \"Poly\", \"ridge\", \"lasso\", \"elastic net\", \"decision tree\", \"random forest\"]\n",
    "average_RMSEs = np.array([linear_average_RMSE, ploy_average_RMSE, ridge_average_RMSE, lasso_average_RMSE, elastic_net_average_RMSE, tree_average_RMSE, forest_average_RMSE])\n",
    "print(['{:.2%}'.format(item) for item in average_RMSEs])\n",
    "plt.figure(figsize=(10,5))\n",
    "plt.bar(x, average_RMSEs)\n",
    "plt.xticks(x, model_names)\n",
    "plt.ylim(ymax=1)\n",
    "plt.show()"
   ]
  },
  {
   "cell_type": "code",
   "execution_count": 13,
   "metadata": {},
   "outputs": [
    {
     "name": "stdout",
     "output_type": "stream",
     "text": [
      "{'bootstrap': False, 'max_features': 6, 'n_estimators': 30}\n"
     ]
    }
   ],
   "source": [
    "param_grid = [\n",
    "    {'bootstrap': [False], 'max_features': [2, 4, 6, 8], 'n_estimators': [3, 10, 30]},\n",
    "]\n",
    "forest_reg = RandomForestRegressor()\n",
    "grid_search = GridSearchCV(forest_reg, param_grid, cv=10,scoring='neg_mean_squared_error')\n",
    "grid_search.fit(X_train, np.squeeze(y_train))\n",
    "print(grid_search.best_params_)"
   ]
  },
  {
   "cell_type": "code",
   "execution_count": 23,
   "metadata": {},
   "outputs": [
    {
     "name": "stdout",
     "output_type": "stream",
     "text": [
      "RMSE: 48286\n",
      "RMSE: 9.96%\n"
     ]
    }
   ],
   "source": [
    "final_model = grid_search.best_estimator_\n",
    "final_predictions = final_model.predict(X_test)\n",
    "final_mse = mean_squared_error(y_test, final_predictions)\n",
    "final_rmse = np.sqrt(final_mse)\n",
    "final_normalized_rmse = final_rmse/target_range\n",
    "print(\"RMSE: {0:.0f}\".format(final_rmse))\n",
    "print(\"RMSE: {0:.2%}\".format(final_normalized_rmse))"
   ]
  },
  {
   "cell_type": "code",
   "execution_count": null,
   "metadata": {
    "collapsed": true
   },
   "outputs": [],
   "source": []
  }
 ],
 "metadata": {
  "kernelspec": {
   "display_name": "Python [conda env:CSIS452]",
   "language": "python",
   "name": "conda-env-CSIS452-py"
  },
  "language_info": {
   "codemirror_mode": {
    "name": "ipython",
    "version": 3
   },
   "file_extension": ".py",
   "mimetype": "text/x-python",
   "name": "python",
   "nbconvert_exporter": "python",
   "pygments_lexer": "ipython3",
   "version": "3.6.2"
  }
 },
 "nbformat": 4,
 "nbformat_minor": 2
}
